{
  "nbformat": 4,
  "nbformat_minor": 0,
  "metadata": {
    "colab": {
      "name": "Currencies.ipynb",
      "provenance": [],
      "collapsed_sections": [],
      "authorship_tag": "ABX9TyP9MP25D2E5Q11y7spIVTof",
      "include_colab_link": true
    },
    "kernelspec": {
      "name": "python3",
      "display_name": "Python 3"
    },
    "language_info": {
      "name": "python"
    }
  },
  "cells": [
    {
      "cell_type": "markdown",
      "metadata": {
        "id": "view-in-github",
        "colab_type": "text"
      },
      "source": [
        "<a href=\"https://colab.research.google.com/github/mikhail-lyubimtsev/ABCalculator/blob/main/Currencies.ipynb\" target=\"_parent\"><img src=\"https://colab.research.google.com/assets/colab-badge.svg\" alt=\"Open In Colab\"/></a>"
      ]
    },
    {
      "cell_type": "code",
      "execution_count": 10,
      "metadata": {
        "colab": {
          "base_uri": "https://localhost:8080/"
        },
        "id": "6PVXz86O97iz",
        "outputId": "2f69c80d-7c49-4d7c-c789-52643269ec7d"
      },
      "outputs": [
        {
          "output_type": "execute_result",
          "data": {
            "text/plain": [
              "<Response [200]>"
            ]
          },
          "metadata": {},
          "execution_count": 10
        }
      ],
      "source": [
        "import requests\n",
        "\n",
        "url = \"http://www.cbr.ru/scripts/XML_daily.asp\"\n",
        "response = requests.get(url)\n",
        "response"
      ]
    },
    {
      "cell_type": "code",
      "source": [
        "response.content"
      ],
      "metadata": {
        "id": "gRNGpcis-pCe",
        "colab": {
          "base_uri": "https://localhost:8080/"
        },
        "outputId": "0714354b-1d92-44d3-fb69-c5fc015fd8bc"
      },
      "execution_count": 11,
      "outputs": [
        {
          "output_type": "execute_result",
          "data": {
            "text/plain": [
              "b'<?xml version=\"1.0\" encoding=\"windows-1251\"?><ValCurs Date=\"21.06.2022\" name=\"Foreign Currency Market\"><Valute ID=\"R01010\"><NumCode>036</NumCode><CharCode>AUD</CharCode><Nominal>1</Nominal><Name>\\xc0\\xe2\\xf1\\xf2\\xf0\\xe0\\xeb\\xe8\\xe9\\xf1\\xea\\xe8\\xe9 \\xe4\\xee\\xeb\\xeb\\xe0\\xf0</Name><Value>39,1355</Value></Valute><Valute ID=\"R01020A\"><NumCode>944</NumCode><CharCode>AZN</CharCode><Nominal>1</Nominal><Name>\\xc0\\xe7\\xe5\\xf0\\xe1\\xe0\\xe9\\xe4\\xe6\\xe0\\xed\\xf1\\xea\\xe8\\xe9 \\xec\\xe0\\xed\\xe0\\xf2</Name><Value>33,0428</Value></Valute><Valute ID=\"R01035\"><NumCode>826</NumCode><CharCode>GBP</CharCode><Nominal>1</Nominal><Name>\\xd4\\xf3\\xed\\xf2 \\xf1\\xf2\\xe5\\xf0\\xeb\\xe8\\xed\\xe3\\xee\\xe2 \\xd1\\xee\\xe5\\xe4\\xe8\\xed\\xe5\\xed\\xed\\xee\\xe3\\xee \\xea\\xee\\xf0\\xee\\xeb\\xe5\\xe2\\xf1\\xf2\\xe2\\xe0</Name><Value>68,4296</Value></Valute><Valute ID=\"R01060\"><NumCode>051</NumCode><CharCode>AMD</CharCode><Nominal>100</Nominal><Name>\\xc0\\xf0\\xec\\xff\\xed\\xf1\\xea\\xe8\\xf5 \\xe4\\xf0\\xe0\\xec\\xee\\xe2</Name><Value>13,3417</Value></Valute><Valute ID=\"R01090B\"><NumCode>933</NumCode><CharCode>BYN</CharCode><Nominal>1</Nominal><Name>\\xc1\\xe5\\xeb\\xee\\xf0\\xf3\\xf1\\xf1\\xea\\xe8\\xe9 \\xf0\\xf3\\xe1\\xeb\\xfc</Name><Value>22,0112</Value></Valute><Valute ID=\"R01100\"><NumCode>975</NumCode><CharCode>BGN</CharCode><Nominal>1</Nominal><Name>\\xc1\\xee\\xeb\\xe3\\xe0\\xf0\\xf1\\xea\\xe8\\xe9 \\xeb\\xe5\\xe2</Name><Value>30,1162</Value></Valute><Valute ID=\"R01115\"><NumCode>986</NumCode><CharCode>BRL</CharCode><Nominal>1</Nominal><Name>\\xc1\\xf0\\xe0\\xe7\\xe8\\xeb\\xfc\\xf1\\xea\\xe8\\xe9 \\xf0\\xe5\\xe0\\xeb</Name><Value>10,9477</Value></Valute><Valute ID=\"R01135\"><NumCode>348</NumCode><CharCode>HUF</CharCode><Nominal>100</Nominal><Name>\\xc2\\xe5\\xed\\xe3\\xe5\\xf0\\xf1\\xea\\xe8\\xf5 \\xf4\\xee\\xf0\\xe8\\xed\\xf2\\xee\\xe2</Name><Value>14,7726</Value></Valute><Valute ID=\"R01200\"><NumCode>344</NumCode><CharCode>HKD</CharCode><Nominal>10</Nominal><Name>\\xc3\\xee\\xed\\xea\\xee\\xed\\xe3\\xf1\\xea\\xe8\\xf5 \\xe4\\xee\\xeb\\xeb\\xe0\\xf0\\xee\\xe2</Name><Value>71,6854</Value></Valute><Valute ID=\"R01215\"><NumCode>208</NumCode><CharCode>DKK</CharCode><Nominal>10</Nominal><Name>\\xc4\\xe0\\xf2\\xf1\\xea\\xe8\\xf5 \\xea\\xf0\\xee\\xed</Name><Value>79,1879</Value></Valute><Valute ID=\"R01235\"><NumCode>840</NumCode><CharCode>USD</CharCode><Nominal>1</Nominal><Name>\\xc4\\xee\\xeb\\xeb\\xe0\\xf0 \\xd1\\xd8\\xc0</Name><Value>56,1727</Value></Valute><Valute ID=\"R01239\"><NumCode>978</NumCode><CharCode>EUR</CharCode><Nominal>1</Nominal><Name>\\xc5\\xe2\\xf0\\xee</Name><Value>58,8003</Value></Valute><Valute ID=\"R01270\"><NumCode>356</NumCode><CharCode>INR</CharCode><Nominal>100</Nominal><Name>\\xc8\\xed\\xe4\\xe8\\xe9\\xf1\\xea\\xe8\\xf5 \\xf0\\xf3\\xef\\xe8\\xe9</Name><Value>71,8845</Value></Valute><Valute ID=\"R01335\"><NumCode>398</NumCode><CharCode>KZT</CharCode><Nominal>100</Nominal><Name>\\xca\\xe0\\xe7\\xe0\\xf5\\xf1\\xf2\\xe0\\xed\\xf1\\xea\\xe8\\xf5 \\xf2\\xe5\\xed\\xe3\\xe5</Name><Value>12,5703</Value></Valute><Valute ID=\"R01350\"><NumCode>124</NumCode><CharCode>CAD</CharCode><Nominal>1</Nominal><Name>\\xca\\xe0\\xed\\xe0\\xe4\\xf1\\xea\\xe8\\xe9 \\xe4\\xee\\xeb\\xeb\\xe0\\xf0</Name><Value>43,0937</Value></Valute><Valute ID=\"R01370\"><NumCode>417</NumCode><CharCode>KGS</CharCode><Nominal>100</Nominal><Name>\\xca\\xe8\\xf0\\xe3\\xe8\\xe7\\xf1\\xea\\xe8\\xf5 \\xf1\\xee\\xec\\xee\\xe2</Name><Value>70,6575</Value></Valute><Valute ID=\"R01375\"><NumCode>156</NumCode><CharCode>CNY</CharCode><Nominal>10</Nominal><Name>\\xca\\xe8\\xf2\\xe0\\xe9\\xf1\\xea\\xe8\\xf5 \\xfe\\xe0\\xed\\xe5\\xe9</Name><Value>84,7402</Value></Valute><Valute ID=\"R01500\"><NumCode>498</NumCode><CharCode>MDL</CharCode><Nominal>10</Nominal><Name>\\xcc\\xee\\xeb\\xe4\\xe0\\xe2\\xf1\\xea\\xe8\\xf5 \\xeb\\xe5\\xe5\\xe2</Name><Value>29,1876</Value></Valute><Valute ID=\"R01535\"><NumCode>578</NumCode><CharCode>NOK</CharCode><Nominal>10</Nominal><Name>\\xcd\\xee\\xf0\\xe2\\xe5\\xe6\\xf1\\xea\\xe8\\xf5 \\xea\\xf0\\xee\\xed</Name><Value>56,3525</Value></Valute><Valute ID=\"R01565\"><NumCode>985</NumCode><CharCode>PLN</CharCode><Nominal>1</Nominal><Name>\\xcf\\xee\\xeb\\xfc\\xf1\\xea\\xe8\\xe9 \\xe7\\xeb\\xee\\xf2\\xfb\\xe9</Name><Value>12,7070</Value></Valute><Valute ID=\"R01585F\"><NumCode>946</NumCode><CharCode>RON</CharCode><Nominal>1</Nominal><Name>\\xd0\\xf3\\xec\\xfb\\xed\\xf1\\xea\\xe8\\xe9 \\xeb\\xe5\\xe9</Name><Value>11,9677</Value></Valute><Valute ID=\"R01589\"><NumCode>960</NumCode><CharCode>XDR</CharCode><Nominal>1</Nominal><Name>\\xd1\\xc4\\xd0 (\\xf1\\xef\\xe5\\xf6\\xe8\\xe0\\xeb\\xfc\\xed\\xfb\\xe5 \\xef\\xf0\\xe0\\xe2\\xe0 \\xe7\\xe0\\xe8\\xec\\xf1\\xf2\\xe2\\xee\\xe2\\xe0\\xed\\xe8\\xff)</Name><Value>75,0040</Value></Valute><Valute ID=\"R01625\"><NumCode>702</NumCode><CharCode>SGD</CharCode><Nominal>1</Nominal><Name>\\xd1\\xe8\\xed\\xe3\\xe0\\xef\\xf3\\xf0\\xf1\\xea\\xe8\\xe9 \\xe4\\xee\\xeb\\xeb\\xe0\\xf0</Name><Value>40,5316</Value></Valute><Valute ID=\"R01670\"><NumCode>972</NumCode><CharCode>TJS</CharCode><Nominal>10</Nominal><Name>\\xd2\\xe0\\xe4\\xe6\\xe8\\xea\\xf1\\xea\\xe8\\xf5 \\xf1\\xee\\xec\\xee\\xed\\xe8</Name><Value>52,0648</Value></Valute><Valute ID=\"R01700J\"><NumCode>949</NumCode><CharCode>TRY</CharCode><Nominal>10</Nominal><Name>\\xd2\\xf3\\xf0\\xe5\\xf6\\xea\\xe8\\xf5 \\xeb\\xe8\\xf0</Name><Value>32,4583</Value></Valute><Valute ID=\"R01710A\"><NumCode>934</NumCode><CharCode>TMT</CharCode><Nominal>1</Nominal><Name>\\xcd\\xee\\xe2\\xfb\\xe9 \\xf2\\xf3\\xf0\\xea\\xec\\xe5\\xed\\xf1\\xea\\xe8\\xe9 \\xec\\xe0\\xed\\xe0\\xf2</Name><Value>16,0493</Value></Valute><Valute ID=\"R01717\"><NumCode>860</NumCode><CharCode>UZS</CharCode><Nominal>10000</Nominal><Name>\\xd3\\xe7\\xe1\\xe5\\xea\\xf1\\xea\\xe8\\xf5 \\xf1\\xf3\\xec\\xee\\xe2</Name><Value>51,2991</Value></Valute><Valute ID=\"R01720\"><NumCode>980</NumCode><CharCode>UAH</CharCode><Nominal>10</Nominal><Name>\\xd3\\xea\\xf0\\xe0\\xe8\\xed\\xf1\\xea\\xe8\\xf5 \\xe3\\xf0\\xe8\\xe2\\xe5\\xed</Name><Value>19,0239</Value></Valute><Valute ID=\"R01760\"><NumCode>203</NumCode><CharCode>CZK</CharCode><Nominal>10</Nominal><Name>\\xd7\\xe5\\xf8\\xf1\\xea\\xe8\\xf5 \\xea\\xf0\\xee\\xed</Name><Value>23,8030</Value></Valute><Valute ID=\"R01770\"><NumCode>752</NumCode><CharCode>SEK</CharCode><Nominal>10</Nominal><Name>\\xd8\\xe2\\xe5\\xe4\\xf1\\xea\\xe8\\xf5 \\xea\\xf0\\xee\\xed</Name><Value>55,2788</Value></Valute><Valute ID=\"R01775\"><NumCode>756</NumCode><CharCode>CHF</CharCode><Nominal>1</Nominal><Name>\\xd8\\xe2\\xe5\\xe9\\xf6\\xe0\\xf0\\xf1\\xea\\xe8\\xe9 \\xf4\\xf0\\xe0\\xed\\xea</Name><Value>58,2040</Value></Valute><Valute ID=\"R01810\"><NumCode>710</NumCode><CharCode>ZAR</CharCode><Nominal>10</Nominal><Name>\\xde\\xe6\\xed\\xee\\xe0\\xf4\\xf0\\xe8\\xea\\xe0\\xed\\xf1\\xea\\xe8\\xf5 \\xf0\\xfd\\xed\\xe4\\xee\\xe2</Name><Value>35,0267</Value></Valute><Valute ID=\"R01815\"><NumCode>410</NumCode><CharCode>KRW</CharCode><Nominal>1000</Nominal><Name>\\xc2\\xee\\xed \\xd0\\xe5\\xf1\\xef\\xf3\\xe1\\xeb\\xe8\\xea\\xe8 \\xca\\xee\\xf0\\xe5\\xff</Name><Value>43,4639</Value></Valute><Valute ID=\"R01820\"><NumCode>392</NumCode><CharCode>JPY</CharCode><Nominal>100</Nominal><Name>\\xdf\\xef\\xee\\xed\\xf1\\xea\\xe8\\xf5 \\xe8\\xe5\\xed</Name><Value>41,5325</Value></Valute></ValCurs>'"
            ]
          },
          "metadata": {},
          "execution_count": 11
        }
      ]
    },
    {
      "cell_type": "code",
      "source": [
        "import xmltodict\n",
        "data = xmltodict.parse(response.content)"
      ],
      "metadata": {
        "colab": {
          "base_uri": "https://localhost:8080/",
          "height": 322
        },
        "id": "Vgea6gXCATip",
        "outputId": "5946e96c-0f30-4b62-8dfe-e5717439b68e"
      },
      "execution_count": 13,
      "outputs": [
        {
          "output_type": "error",
          "ename": "ModuleNotFoundError",
          "evalue": "ignored",
          "traceback": [
            "\u001b[0;31m---------------------------------------------------------------------------\u001b[0m",
            "\u001b[0;31mModuleNotFoundError\u001b[0m                       Traceback (most recent call last)",
            "\u001b[0;32m<ipython-input-13-f2e7a7e3436b>\u001b[0m in \u001b[0;36m<module>\u001b[0;34m()\u001b[0m\n\u001b[0;32m----> 1\u001b[0;31m \u001b[0;32mimport\u001b[0m \u001b[0mxmltodict\u001b[0m\u001b[0;34m\u001b[0m\u001b[0;34m\u001b[0m\u001b[0m\n\u001b[0m\u001b[1;32m      2\u001b[0m \u001b[0mdata\u001b[0m \u001b[0;34m=\u001b[0m \u001b[0mxmltodict\u001b[0m\u001b[0;34m.\u001b[0m\u001b[0mparse\u001b[0m\u001b[0;34m(\u001b[0m\u001b[0mresponse\u001b[0m\u001b[0;34m.\u001b[0m\u001b[0mcontent\u001b[0m\u001b[0;34m)\u001b[0m\u001b[0;34m\u001b[0m\u001b[0;34m\u001b[0m\u001b[0m\n",
            "\u001b[0;31mModuleNotFoundError\u001b[0m: No module named 'xmltodict'",
            "",
            "\u001b[0;31m---------------------------------------------------------------------------\u001b[0;32m\nNOTE: If your import is failing due to a missing package, you can\nmanually install dependencies using either !pip or !apt.\n\nTo view examples of installing some common dependencies, click the\n\"Open Examples\" button below.\n\u001b[0;31m---------------------------------------------------------------------------\u001b[0m\n"
          ],
          "errorDetails": {
            "actions": [
              {
                "action": "open_url",
                "actionText": "Open Examples",
                "url": "/notebooks/snippets/importing_libraries.ipynb"
              }
            ]
          }
        }
      ]
    }
  ]
}